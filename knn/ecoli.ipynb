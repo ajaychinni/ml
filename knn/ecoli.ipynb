{
 "cells": [
  {
   "cell_type": "code",
   "execution_count": 10,
   "metadata": {},
   "outputs": [],
   "source": [
    "from sklearn.model_selection import train_test_split\n",
    "from sklearn.model_selection import StratifiedKFold\n",
    "from sklearn.preprocessing import LabelEncoder\n",
    "from sklearn.metrics import confusion_matrix\n",
    "import matplotlib.pyplot as plt\n",
    "import pandas as pd\n",
    "import numpy as np\n",
    "import csv\n",
    "\n",
    "from utils.knn import KNN\n",
    "from utils.helper import HELPER"
   ]
  },
  {
   "cell_type": "code",
   "execution_count": 2,
   "metadata": {},
   "outputs": [
    {
     "name": "stdout",
     "output_type": "stream",
     "text": [
      "False\n"
     ]
    }
   ],
   "source": [
    "hl = HELPER()\n",
    "\n",
    "#only do once to convert .data to .csv file change param to True to run it\n",
    "hl.get_data(do_it = False)"
   ]
  },
  {
   "cell_type": "code",
   "execution_count": 3,
   "metadata": {},
   "outputs": [
    {
     "name": "stdout",
     "output_type": "stream",
     "text": [
      "Index(['Sequence_Name', 'mcg', 'gvh', 'lip', 'chg', 'aac', 'alm1', 'alm2',\n",
      "       'label'],\n",
      "      dtype='object')\n",
      "shape of dataframe  (336, 9)\n"
     ]
    }
   ],
   "source": [
    "df = pd.read_csv('data/ecoli.csv')\n",
    "# data has 8 features\n",
    "print(df.columns)\n",
    "print(\"shape of dataframe \",df.shape)"
   ]
  },
  {
   "cell_type": "code",
   "execution_count": 4,
   "metadata": {},
   "outputs": [
    {
     "data": {
      "text/plain": [
       "cp     143\n",
       "im      77\n",
       "pp      52\n",
       "imU     35\n",
       "om      20\n",
       "omL      5\n",
       "imL      2\n",
       "imS      2\n",
       "Name: label, dtype: int64"
      ]
     },
     "execution_count": 4,
     "metadata": {},
     "output_type": "execute_result"
    }
   ],
   "source": [
    "# 8 classes the last three has very few data points so we can remove those classes \n",
    "df.label.value_counts()"
   ]
  },
  {
   "cell_type": "code",
   "execution_count": 5,
   "metadata": {},
   "outputs": [
    {
     "name": "stdout",
     "output_type": "stream",
     "text": [
      "new shape after encoding is  (327, 335)\n"
     ]
    },
    {
     "data": {
      "text/plain": [
       "0    143\n",
       "1     77\n",
       "4     52\n",
       "2     35\n",
       "3     20\n",
       "Name: label, dtype: int64"
      ]
     },
     "execution_count": 5,
     "metadata": {},
     "output_type": "execute_result"
    }
   ],
   "source": [
    "# removed the last 3 clases\n",
    "df = df[~(df['label'].isin([\"imL\",\"imS\",\"omL\"]))]\n",
    "\n",
    "#choose one_hot_encode or label_encode\n",
    "df = hl.encoding(df,encode='one_hot_encode')\n",
    "print(\"new shape after encoding is \",df.shape)\n",
    "df.to_csv(\"dummy.csv\",index = False)\n",
    "\n",
    "#converting string categorical values to integer for label\n",
    "le1 = LabelEncoder()\n",
    "df['label'] = le1.fit_transform(df['label'])\n",
    "df.label.value_counts()"
   ]
  },
  {
   "cell_type": "code",
   "execution_count": 7,
   "metadata": {},
   "outputs": [
    {
     "name": "stdout",
     "output_type": "stream",
     "text": [
      "Accuracy is 86.0 %\n",
      "[[26  1  0  0  1]\n",
      " [ 0 15  2  0  0]\n",
      " [ 0  4  3  0  0]\n",
      " [ 0  0  0  3  1]\n",
      " [ 0  0  0  0 10]]\n"
     ]
    }
   ],
   "source": [
    "#split data into train test\n",
    "X_train, X_test, y_train, y_test = train_test_split(df.iloc[:,df.columns !='label'].values,df.label.values, test_size=0.2,shuffle = True)\n",
    "\n",
    "#Intilizing knn classifier with 3 neighbours\n",
    "clf_model = KNN(k = 3)\n",
    "clf_model.fit(X_train,y_train)\n",
    "predictions = clf_model.predict(X_test)\n",
    "acc = clf_model.accuracy(predictions,y_test)\n",
    "print(\"Accuracy is\",round(acc,2)*100,\"%\")\n",
    "print(confusion_matrix(predictions,y_test))"
   ]
  },
  {
   "cell_type": "code",
   "execution_count": 51,
   "metadata": {},
   "outputs": [
    {
     "name": "stdout",
     "output_type": "stream",
     "text": [
      "Accuracy is 94.0 %\n",
      "--------------------\n",
      "Accuracy is 92.0 %\n",
      "--------------------\n",
      "Accuracy is 93.0 %\n",
      "--------------------\n",
      "Accuracy is 94.0 %\n",
      "--------------------\n",
      "Accuracy is 94.0 %\n",
      "--------------------\n",
      "mean accuracy  0.9334809517536711\n"
     ]
    }
   ],
   "source": [
    "#cross validation statified k fold \n",
    "skf = StratifiedKFold(n_splits = 5)\n",
    "x = df.iloc[:,df.columns !='label'].values\n",
    "y = df.label.values\n",
    "\n",
    "acc_lst = []\n",
    "for train_indx, test_indx in skf.split(x,y):\n",
    "    x_Train,x_test = x[train_indx],x[train_indx]\n",
    "    y_Train,y_test = y[train_indx],y[train_indx]\n",
    "    #check the value counts for every iteration\n",
    "#     unique, counts = np.unique(y_Train, return_counts = True)\n",
    "#     print(np.asarray((unique,counts)).T)\n",
    "    \n",
    "    clf_model = KNN(3)\n",
    "    clf_model.fit(x_Train,y_Train)\n",
    "    pred=clf_model.predict(x_test)\n",
    "    acc = clf_model.accuracy(pred,y_test)\n",
    "    acc_lst.append(acc)\n",
    "    print(\"Accuracy is\",round(acc,2)*100,\"%\")\n",
    "#     print(confusion_matrix(pred,y_test))\n",
    "    print(\"--------------------\")\n",
    "print(\"mean accuracy \",np.array(acc_lst).mean())"
   ]
  },
  {
   "cell_type": "markdown",
   "metadata": {},
   "source": [
    "Observations\n",
    "\n",
    "1.if the categorical variable is label encoded than we get accuracy around 50 % if we remove the column we get accuaracy around 90% but if we really want to use the feature we can one hot encode it and we get 85% accuracy but suprisingly all the ~390 rows were unique so due to it. One hot encoding created 390 extra column this explotion should have lead to curse of dimentiality and bring down the accuracy."
   ]
  },
  {
   "cell_type": "code",
   "execution_count": null,
   "metadata": {},
   "outputs": [],
   "source": []
  }
 ],
 "metadata": {
  "kernelspec": {
   "display_name": "Python 3",
   "language": "python",
   "name": "python3"
  },
  "language_info": {
   "codemirror_mode": {
    "name": "ipython",
    "version": 3
   },
   "file_extension": ".py",
   "mimetype": "text/x-python",
   "name": "python",
   "nbconvert_exporter": "python",
   "pygments_lexer": "ipython3",
   "version": "3.7.3"
  }
 },
 "nbformat": 4,
 "nbformat_minor": 2
}
